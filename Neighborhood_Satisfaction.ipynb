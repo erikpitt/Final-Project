{
 "cells": [
  {
   "cell_type": "markdown",
   "metadata": {},
   "source": [
    "# Measure of \"bestness\" -- Blood Lead Levels"
   ]
  },
  {
   "cell_type": "code",
   "execution_count": 46,
   "metadata": {},
   "outputs": [],
   "source": [
    "import pandas as pd\n",
    "import geopandas as gpd\n",
    "import numpy as np\n",
    "\n",
    "%matplotlib inline"
   ]
  },
  {
   "cell_type": "markdown",
   "metadata": {},
   "source": [
    "## Importing data"
   ]
  },
  {
   "cell_type": "code",
   "execution_count": 47,
   "metadata": {},
   "outputs": [
    {
     "data": {
      "text/html": [
       "<div>\n",
       "<style scoped>\n",
       "    .dataframe tbody tr th:only-of-type {\n",
       "        vertical-align: middle;\n",
       "    }\n",
       "\n",
       "    .dataframe tbody tr th {\n",
       "        vertical-align: top;\n",
       "    }\n",
       "\n",
       "    .dataframe thead th {\n",
       "        text-align: right;\n",
       "    }\n",
       "</style>\n",
       "<table border=\"1\" class=\"dataframe\">\n",
       "  <thead>\n",
       "    <tr style=\"text-align: right;\">\n",
       "      <th></th>\n",
       "      <th>Rate 2018 (% elevated)</th>\n",
       "      <th>Rate 2017 (% elevated)</th>\n",
       "      <th>Rate 2016 (% elevated)</th>\n",
       "      <th>Rate 2015 (% elevated)</th>\n",
       "    </tr>\n",
       "    <tr>\n",
       "      <th>School District</th>\n",
       "      <th></th>\n",
       "      <th></th>\n",
       "      <th></th>\n",
       "      <th></th>\n",
       "    </tr>\n",
       "  </thead>\n",
       "  <tbody>\n",
       "    <tr>\n",
       "      <th>Allegheny Valley</th>\n",
       "      <td>0.69</td>\n",
       "      <td>0.97</td>\n",
       "      <td>0.00</td>\n",
       "      <td>0.00</td>\n",
       "    </tr>\n",
       "    <tr>\n",
       "      <th>Avonworth</th>\n",
       "      <td>1.00</td>\n",
       "      <td>0.63</td>\n",
       "      <td>0.81</td>\n",
       "      <td>0.72</td>\n",
       "    </tr>\n",
       "    <tr>\n",
       "      <th>Baldwin-Whitehall</th>\n",
       "      <td>1.45</td>\n",
       "      <td>1.43</td>\n",
       "      <td>0.76</td>\n",
       "      <td>1.36</td>\n",
       "    </tr>\n",
       "    <tr>\n",
       "      <th>Bethel Park</th>\n",
       "      <td>0.19</td>\n",
       "      <td>0.63</td>\n",
       "      <td>0.00</td>\n",
       "      <td>0.49</td>\n",
       "    </tr>\n",
       "    <tr>\n",
       "      <th>Brentwood Borough</th>\n",
       "      <td>2.76</td>\n",
       "      <td>3.14</td>\n",
       "      <td>1.42</td>\n",
       "      <td>2.20</td>\n",
       "    </tr>\n",
       "  </tbody>\n",
       "</table>\n",
       "</div>"
      ],
      "text/plain": [
       "                   Rate 2018 (% elevated)  Rate 2017 (% elevated)  \\\n",
       "School District                                                     \n",
       "Allegheny Valley                     0.69                    0.97   \n",
       "Avonworth                            1.00                    0.63   \n",
       "Baldwin-Whitehall                    1.45                    1.43   \n",
       "Bethel Park                          0.19                    0.63   \n",
       "Brentwood Borough                    2.76                    3.14   \n",
       "\n",
       "                   Rate 2016 (% elevated)  Rate 2015 (% elevated)  \n",
       "School District                                                    \n",
       "Allegheny Valley                     0.00                    0.00  \n",
       "Avonworth                            0.81                    0.72  \n",
       "Baldwin-Whitehall                    0.76                    1.36  \n",
       "Bethel Park                          0.00                    0.49  \n",
       "Brentwood Borough                    1.42                    2.20  "
      ]
     },
     "execution_count": 47,
     "metadata": {},
     "output_type": "execute_result"
    }
   ],
   "source": [
    "bloodlvl = pd.read_csv('schooldistrict2015_2018.csv',\n",
    "                           index_col=\"School District\", \n",
    "                           parse_dates=True)\n",
    "s = pd.DataFrame(bloodlvl)\n",
    "\n",
    "s.head()"
   ]
  },
  {
   "cell_type": "markdown",
   "metadata": {},
   "source": [
    "We'll drop out the previous years and only look at the most recent data."
   ]
  },
  {
   "cell_type": "code",
   "execution_count": 49,
   "metadata": {},
   "outputs": [],
   "source": [
    "del s['Rate 2015 (% elevated)']\n",
    "del s['Rate 2016 (% elevated)']\n",
    "del s['Rate 2017 (% elevated)']"
   ]
  },
  {
   "cell_type": "markdown",
   "metadata": {},
   "source": [
    "Next, we'll rename the column to something a little more consice and readable, and then we'll reprint the data with only that one column to simplify it a bit."
   ]
  },
  {
   "cell_type": "code",
   "execution_count": 52,
   "metadata": {},
   "outputs": [
    {
     "data": {
      "text/html": [
       "<div>\n",
       "<style scoped>\n",
       "    .dataframe tbody tr th:only-of-type {\n",
       "        vertical-align: middle;\n",
       "    }\n",
       "\n",
       "    .dataframe tbody tr th {\n",
       "        vertical-align: top;\n",
       "    }\n",
       "\n",
       "    .dataframe thead th {\n",
       "        text-align: right;\n",
       "    }\n",
       "</style>\n",
       "<table border=\"1\" class=\"dataframe\">\n",
       "  <thead>\n",
       "    <tr style=\"text-align: right;\">\n",
       "      <th></th>\n",
       "      <th>Blood Lead Elevation</th>\n",
       "    </tr>\n",
       "    <tr>\n",
       "      <th>School District</th>\n",
       "      <th></th>\n",
       "    </tr>\n",
       "  </thead>\n",
       "  <tbody>\n",
       "    <tr>\n",
       "      <th>Allegheny Valley</th>\n",
       "      <td>0.69</td>\n",
       "    </tr>\n",
       "    <tr>\n",
       "      <th>Avonworth</th>\n",
       "      <td>1.00</td>\n",
       "    </tr>\n",
       "    <tr>\n",
       "      <th>Baldwin-Whitehall</th>\n",
       "      <td>1.45</td>\n",
       "    </tr>\n",
       "    <tr>\n",
       "      <th>Bethel Park</th>\n",
       "      <td>0.19</td>\n",
       "    </tr>\n",
       "    <tr>\n",
       "      <th>Brentwood Borough</th>\n",
       "      <td>2.76</td>\n",
       "    </tr>\n",
       "  </tbody>\n",
       "</table>\n",
       "</div>"
      ],
      "text/plain": [
       "                   Blood Lead Elevation\n",
       "School District                        \n",
       "Allegheny Valley                   0.69\n",
       "Avonworth                          1.00\n",
       "Baldwin-Whitehall                  1.45\n",
       "Bethel Park                        0.19\n",
       "Brentwood Borough                  2.76"
      ]
     },
     "execution_count": 52,
     "metadata": {},
     "output_type": "execute_result"
    }
   ],
   "source": [
    "# renaming column to make it prettier\n",
    "s = s.rename(columns={'Rate 2018 (% elevated)':'Blood Lead Elevation'})\n",
    "\n",
    "# reprinting with only our most recent column still in the dataframe\n",
    "s.head()"
   ]
  },
  {
   "cell_type": "markdown",
   "metadata": {},
   "source": [
    "## Sorting Data\n",
    "\n",
    "The focus of the project is to measure neighborhood 'bestness', so what I'm doing here is sorting the data by who has the **least** blood lead levels in terms of elevation in their school districts -- this seems to me to be a pretty good measure of which neighborhoods have the healthiest citizens in this respect. We're also going to filter out results higher than 0.7% so that the neighborhoods play nicely with the bar graph."
   ]
  },
  {
   "cell_type": "code",
   "execution_count": 60,
   "metadata": {},
   "outputs": [
    {
     "data": {
      "text/html": [
       "<div>\n",
       "<style scoped>\n",
       "    .dataframe tbody tr th:only-of-type {\n",
       "        vertical-align: middle;\n",
       "    }\n",
       "\n",
       "    .dataframe tbody tr th {\n",
       "        vertical-align: top;\n",
       "    }\n",
       "\n",
       "    .dataframe thead th {\n",
       "        text-align: right;\n",
       "    }\n",
       "</style>\n",
       "<table border=\"1\" class=\"dataframe\">\n",
       "  <thead>\n",
       "    <tr style=\"text-align: right;\">\n",
       "      <th></th>\n",
       "      <th>Blood Lead Elevation</th>\n",
       "    </tr>\n",
       "    <tr>\n",
       "      <th>School District</th>\n",
       "      <th></th>\n",
       "    </tr>\n",
       "  </thead>\n",
       "  <tbody>\n",
       "    <tr>\n",
       "      <th>Deer Lakes</th>\n",
       "      <td>0.00</td>\n",
       "    </tr>\n",
       "    <tr>\n",
       "      <th>Fort Cherry</th>\n",
       "      <td>0.00</td>\n",
       "    </tr>\n",
       "    <tr>\n",
       "      <th>Hampton Township</th>\n",
       "      <td>0.00</td>\n",
       "    </tr>\n",
       "    <tr>\n",
       "      <th>South Park</th>\n",
       "      <td>0.00</td>\n",
       "    </tr>\n",
       "    <tr>\n",
       "      <th>South Allegheny</th>\n",
       "      <td>0.00</td>\n",
       "    </tr>\n",
       "    <tr>\n",
       "      <th>Plum Borough</th>\n",
       "      <td>0.00</td>\n",
       "    </tr>\n",
       "    <tr>\n",
       "      <th>Pine-Richland</th>\n",
       "      <td>0.00</td>\n",
       "    </tr>\n",
       "    <tr>\n",
       "      <th>Bethel Park</th>\n",
       "      <td>0.19</td>\n",
       "    </tr>\n",
       "    <tr>\n",
       "      <th>West Jefferson Hills</th>\n",
       "      <td>0.22</td>\n",
       "    </tr>\n",
       "    <tr>\n",
       "      <th>Mt. Lebanon</th>\n",
       "      <td>0.34</td>\n",
       "    </tr>\n",
       "  </tbody>\n",
       "</table>\n",
       "</div>"
      ],
      "text/plain": [
       "                      Blood Lead Elevation\n",
       "School District                           \n",
       "Deer Lakes                            0.00\n",
       "Fort Cherry                           0.00\n",
       "Hampton Township                      0.00\n",
       "South Park                            0.00\n",
       "South Allegheny                       0.00\n",
       "Plum Borough                          0.00\n",
       "Pine-Richland                         0.00\n",
       "Bethel Park                           0.19\n",
       "West Jefferson Hills                  0.22\n",
       "Mt. Lebanon                           0.34"
      ]
     },
     "execution_count": 60,
     "metadata": {},
     "output_type": "execute_result"
    }
   ],
   "source": [
    "# sorting the data in ascending order to show the highest levels of blood lead\n",
    "\n",
    "blood_levels = s[s['Blood Lead Elevation']<0.7].sort_values('Blood Lead Elevation',ascending=True)\n",
    "\n",
    "blood_levels.head(10)"
   ]
  },
  {
   "cell_type": "markdown",
   "metadata": {},
   "source": [
    "## Representation\n",
    "\n",
    "We're going to set up the previously mentioned bar graph and display our data, which will show the neighborhoods with the best results (remember, lower is better)."
   ]
  },
  {
   "cell_type": "code",
   "execution_count": 63,
   "metadata": {},
   "outputs": [
    {
     "data": {
      "text/plain": [
       "<matplotlib.axes._subplots.AxesSubplot at 0x7f9f49b3add8>"
      ]
     },
     "execution_count": 63,
     "metadata": {},
     "output_type": "execute_result"
    },
    {
     "data": {
      "image/png": "[encoded data removed]",
      "text/plain": [
       "<Figure size 432x288 with 1 Axes>"
      ]
     },
     "metadata": {
      "needs_background": "light"
     },
     "output_type": "display_data"
    }
   ],
   "source": [
    "# setting up bar graph\n",
    "blood_levels.loc[:,'Blood Lead Elevation'].plot(kind=\"bar\", title = \"Lead in Blood Elevation\", rot=70)"
   ]
  },
  {
   "cell_type": "code",
   "execution_count": null,
   "metadata": {},
   "outputs": [],
   "source": []
  }
 ],
 "metadata": {
  "kernelspec": {
   "display_name": "Python 3",
   "language": "python",
   "name": "python3"
  },
  "language_info": {
   "codemirror_mode": {
    "name": "ipython",
    "version": 3
   },
   "file_extension": ".py",
   "mimetype": "text/x-python",
   "name": "python",
   "nbconvert_exporter": "python",
   "pygments_lexer": "ipython3",
   "version": "3.6.7"
  }
 },
 "nbformat": 4,
 "nbformat_minor": 4
}
