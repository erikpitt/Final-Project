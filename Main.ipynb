{
 "cells": [
  {
   "cell_type": "markdown",
   "metadata": {},
   "source": [
    "# Team Friendship"
   ]
  },
  {
   "cell_type": "markdown",
   "metadata": {},
   "source": [
    "## Introduction\n",
    "The purpose of this final project is to sort neighborhoods in our community by “bestness”, whatever that means to each of us. We each chose different metrics for this, and we think it lead to interesting and distinct results, which demonstrates pretty clearly just how subjective something like being the best neighborhood can be — it depends entirely on your metrics and personal requirements for a best neighborhood. That being said, we put our different measurements together to create a ranking of neighborhoods that, according to these measurements, is the best of the bunch. Some of us personally explored several different options before settling on a final dataset, and that was both a rewarding and challenging experience."
   ]
  },
  {
   "cell_type": "markdown",
   "metadata": {},
   "source": [
    "## Metrics\n",
    "The metrics we selected to determine the best neighborhood are crime rate, development determined by the number of building permits, and the number of people in poverty."
   ]
  },
  {
   "cell_type": "code",
   "execution_count": 208,
   "metadata": {},
   "outputs": [],
   "source": [
    "import pandas as pd\n",
    "import numpy as np\n",
    "import geopandas as gpd\n",
    "%matplotlib inline"
   ]
  },
  {
   "cell_type": "markdown",
   "metadata": {},
   "source": [
    "## Crime\n",
    "### Importing and Reformatting The Data"
   ]
  },
  {
   "cell_type": "code",
   "execution_count": 209,
   "metadata": {},
   "outputs": [
    {
     "data": {
      "text/html": [
       "<div>\n",
       "<style scoped>\n",
       "    .dataframe tbody tr th:only-of-type {\n",
       "        vertical-align: middle;\n",
       "    }\n",
       "\n",
       "    .dataframe tbody tr th {\n",
       "        vertical-align: top;\n",
       "    }\n",
       "\n",
       "    .dataframe thead th {\n",
       "        text-align: right;\n",
       "    }\n",
       "</style>\n",
       "<table border=\"1\" class=\"dataframe\">\n",
       "  <thead>\n",
       "    <tr style=\"text-align: right;\">\n",
       "      <th></th>\n",
       "      <th>Offenses</th>\n",
       "    </tr>\n",
       "    <tr>\n",
       "      <th>Neighborhood</th>\n",
       "      <th></th>\n",
       "    </tr>\n",
       "  </thead>\n",
       "  <tbody>\n",
       "    <tr>\n",
       "      <th>Allegheny Center</th>\n",
       "      <td>756</td>\n",
       "    </tr>\n",
       "    <tr>\n",
       "      <th>Allegheny West</th>\n",
       "      <td>82</td>\n",
       "    </tr>\n",
       "    <tr>\n",
       "      <th>Allentown</th>\n",
       "      <td>609</td>\n",
       "    </tr>\n",
       "    <tr>\n",
       "      <th>Arlington</th>\n",
       "      <td>181</td>\n",
       "    </tr>\n",
       "    <tr>\n",
       "      <th>Arlington Heights</th>\n",
       "      <td>105</td>\n",
       "    </tr>\n",
       "  </tbody>\n",
       "</table>\n",
       "</div>"
      ],
      "text/plain": [
       "                   Offenses\n",
       "Neighborhood               \n",
       "Allegheny Center        756\n",
       "Allegheny West           82\n",
       "Allentown               609\n",
       "Arlington               181\n",
       "Arlington Heights       105"
      ]
     },
     "execution_count": 209,
     "metadata": {},
     "output_type": "execute_result"
    }
   ],
   "source": [
    "pgh_arrest_data = pd.read_csv(\"https://data.wprdc.org/datastore/dump/e03a89dd-134a-4ee8-a2bd-62c40aeebc6f\",\n",
    "                           index_col=\"ARRESTTIME\", \n",
    "                           parse_dates=True)\n",
    "\n",
    "# Pittsburgh American Community Survey 2015 - Miscellaneous Data \n",
    "\n",
    "pop_data = pd.read_csv('total-population.csv', index_col=\"Neighborhood\")\n",
    "\n",
    "##Reformat\n",
    "\n",
    "pgh_arrest_data = pgh_arrest_data.rename(columns={'INCIDENTNEIGHBORHOOD':'Neighborhood', 'OFFENSES':'Offenses'})\n",
    "arrest_data = pgh_arrest_data.loc[:,[\"Offenses\",\"Neighborhood\"]].groupby('Neighborhood').count()\n",
    "arrest_data.head()"
   ]
  },
  {
   "cell_type": "markdown",
   "metadata": {},
   "source": [
    "### Adding population & Offenses per Capita\n",
    "If we only look at the number of offenses, we completely ignore the fact that **more people = more crime**. Therefore, we will look at the ratio of crime to people. We add the population onto our data frame and divide the number of offenses by the estimated population to get the number of crimes per person in the neighborhood."
   ]
  },
  {
   "cell_type": "code",
   "execution_count": 210,
   "metadata": {},
   "outputs": [
    {
     "data": {
      "text/html": [
       "<div>\n",
       "<style scoped>\n",
       "    .dataframe tbody tr th:only-of-type {\n",
       "        vertical-align: middle;\n",
       "    }\n",
       "\n",
       "    .dataframe tbody tr th {\n",
       "        vertical-align: top;\n",
       "    }\n",
       "\n",
       "    .dataframe thead th {\n",
       "        text-align: right;\n",
       "    }\n",
       "</style>\n",
       "<table border=\"1\" class=\"dataframe\">\n",
       "  <thead>\n",
       "    <tr style=\"text-align: right;\">\n",
       "      <th></th>\n",
       "      <th>Offenses</th>\n",
       "      <th>Estimated Population</th>\n",
       "      <th>Offenses per Capita</th>\n",
       "    </tr>\n",
       "    <tr>\n",
       "      <th>Neighborhood</th>\n",
       "      <th></th>\n",
       "      <th></th>\n",
       "      <th></th>\n",
       "    </tr>\n",
       "  </thead>\n",
       "  <tbody>\n",
       "    <tr>\n",
       "      <th>Allegheny Center</th>\n",
       "      <td>756</td>\n",
       "      <td>1411.0</td>\n",
       "      <td>0.535790</td>\n",
       "    </tr>\n",
       "    <tr>\n",
       "      <th>Allegheny West</th>\n",
       "      <td>82</td>\n",
       "      <td>343.0</td>\n",
       "      <td>0.239067</td>\n",
       "    </tr>\n",
       "    <tr>\n",
       "      <th>Allentown</th>\n",
       "      <td>609</td>\n",
       "      <td>2558.0</td>\n",
       "      <td>0.238077</td>\n",
       "    </tr>\n",
       "    <tr>\n",
       "      <th>Arlington</th>\n",
       "      <td>181</td>\n",
       "      <td>1852.0</td>\n",
       "      <td>0.097732</td>\n",
       "    </tr>\n",
       "    <tr>\n",
       "      <th>Arlington Heights</th>\n",
       "      <td>105</td>\n",
       "      <td>272.0</td>\n",
       "      <td>0.386029</td>\n",
       "    </tr>\n",
       "  </tbody>\n",
       "</table>\n",
       "</div>"
      ],
      "text/plain": [
       "                   Offenses  Estimated Population  Offenses per Capita\n",
       "Neighborhood                                                          \n",
       "Allegheny Center        756                1411.0             0.535790\n",
       "Allegheny West           82                 343.0             0.239067\n",
       "Allentown               609                2558.0             0.238077\n",
       "Arlington               181                1852.0             0.097732\n",
       "Arlington Heights       105                 272.0             0.386029"
      ]
     },
     "execution_count": 210,
     "metadata": {},
     "output_type": "execute_result"
    }
   ],
   "source": [
    "population = pop_data.loc[:,\"Estimate; Total\"]\n",
    "arrest_data['Estimated Population'] = population\n",
    "arrest_data['Offenses per Capita'] = arrest_data.loc[:,\"Offenses\"]/arrest_data.loc[:,'Estimated Population']\n",
    "arrest_data.dropna()\n",
    "arrest_data.head()"
   ]
  },
  {
   "cell_type": "markdown",
   "metadata": {},
   "source": [
    "### Filter\n",
    "To make plotting nicer (**actually readable**), we drop all neighborhoods with more than 3 crimes per 100 people."
   ]
  },
  {
   "cell_type": "code",
   "execution_count": 211,
   "metadata": {},
   "outputs": [
    {
     "data": {
      "text/html": [
       "<div>\n",
       "<style scoped>\n",
       "    .dataframe tbody tr th:only-of-type {\n",
       "        vertical-align: middle;\n",
       "    }\n",
       "\n",
       "    .dataframe tbody tr th {\n",
       "        vertical-align: top;\n",
       "    }\n",
       "\n",
       "    .dataframe thead th {\n",
       "        text-align: right;\n",
       "    }\n",
       "</style>\n",
       "<table border=\"1\" class=\"dataframe\">\n",
       "  <thead>\n",
       "    <tr style=\"text-align: right;\">\n",
       "      <th></th>\n",
       "      <th>Offenses</th>\n",
       "      <th>Estimated Population</th>\n",
       "      <th>Offenses per Capita</th>\n",
       "    </tr>\n",
       "    <tr>\n",
       "      <th>Neighborhood</th>\n",
       "      <th></th>\n",
       "      <th></th>\n",
       "      <th></th>\n",
       "    </tr>\n",
       "  </thead>\n",
       "  <tbody>\n",
       "    <tr>\n",
       "      <th>Central Northside</th>\n",
       "      <td>23</td>\n",
       "      <td>2892.0</td>\n",
       "      <td>0.007953</td>\n",
       "    </tr>\n",
       "    <tr>\n",
       "      <th>Squirrel Hill North</th>\n",
       "      <td>176</td>\n",
       "      <td>11336.0</td>\n",
       "      <td>0.015526</td>\n",
       "    </tr>\n",
       "    <tr>\n",
       "      <th>Swisshelm Park</th>\n",
       "      <td>24</td>\n",
       "      <td>1345.0</td>\n",
       "      <td>0.017844</td>\n",
       "    </tr>\n",
       "    <tr>\n",
       "      <th>Regent Square</th>\n",
       "      <td>21</td>\n",
       "      <td>1033.0</td>\n",
       "      <td>0.020329</td>\n",
       "    </tr>\n",
       "    <tr>\n",
       "      <th>North Oakland</th>\n",
       "      <td>245</td>\n",
       "      <td>9602.0</td>\n",
       "      <td>0.025516</td>\n",
       "    </tr>\n",
       "    <tr>\n",
       "      <th>New Homestead</th>\n",
       "      <td>25</td>\n",
       "      <td>973.0</td>\n",
       "      <td>0.025694</td>\n",
       "    </tr>\n",
       "    <tr>\n",
       "      <th>Stanton Heights</th>\n",
       "      <td>132</td>\n",
       "      <td>4761.0</td>\n",
       "      <td>0.027725</td>\n",
       "    </tr>\n",
       "  </tbody>\n",
       "</table>\n",
       "</div>"
      ],
      "text/plain": [
       "                     Offenses  Estimated Population  Offenses per Capita\n",
       "Neighborhood                                                            \n",
       "Central Northside          23                2892.0             0.007953\n",
       "Squirrel Hill North       176               11336.0             0.015526\n",
       "Swisshelm Park             24                1345.0             0.017844\n",
       "Regent Square              21                1033.0             0.020329\n",
       "North Oakland             245                9602.0             0.025516\n",
       "New Homestead              25                 973.0             0.025694\n",
       "Stanton Heights           132                4761.0             0.027725"
      ]
     },
     "execution_count": 211,
     "metadata": {},
     "output_type": "execute_result"
    }
   ],
   "source": [
    "arrest_data_filtered = arrest_data[arrest_data['Offenses per Capita']<.03].sort_values(\"Offenses per Capita\")\n",
    "arrest_data_filtered"
   ]
  },
  {
   "cell_type": "code",
   "execution_count": 212,
   "metadata": {},
   "outputs": [
    {
     "data": {
      "text/plain": [
       "<matplotlib.axes._subplots.AxesSubplot at 0x7fd3c6808898>"
      ]
     },
     "execution_count": 212,
     "metadata": {},
     "output_type": "execute_result"
    },
    {
     "data": {
      "image/png": "[encoded data removed]",
      "text/plain": [
       "<Figure size 432x288 with 1 Axes>"
      ]
     },
     "metadata": {
      "needs_background": "light"
     },
     "output_type": "display_data"
    }
   ],
   "source": [
    "arrest_data_filtered.loc[:,'Offenses per Capita'].plot(kind=\"bar\", title = \"Crime per Capita\", rot=45)"
   ]
  },
  {
   "cell_type": "markdown",
   "metadata": {},
   "source": [
    "## Building Permits\n",
    "### Importing Data"
   ]
  },
  {
   "cell_type": "code",
   "execution_count": 213,
   "metadata": {},
   "outputs": [],
   "source": [
    "permit_data = pd.read_csv('pli-permit-summary-3.2020.csv')\n",
    "population_data = pd.read_csv('total-population.csv')\n",
    "neighborhoods = gpd.read_file('Neighborhoods_.shp')"
   ]
  },
  {
   "cell_type": "markdown",
   "metadata": {},
   "source": [
    "Reads in the building permit data and displays the neighborhoods with the most building permits in the month of March."
   ]
  },
  {
   "cell_type": "code",
   "execution_count": 214,
   "metadata": {},
   "outputs": [
    {
     "data": {
      "text/plain": [
       "Text(0.5, 0, 'Permits')"
      ]
     },
     "execution_count": 214,
     "metadata": {},
     "output_type": "execute_result"
    },
    {
     "data": {
      "image/png": "[encoded data removed]",
      "text/plain": [
       "<Figure size 648x432 with 1 Axes>"
      ]
     },
     "metadata": {
      "needs_background": "light"
     },
     "output_type": "display_data"
    }
   ],
   "source": [
    "permit_data = permit_data.groupby('SNP_NEIGHBORHOOD').size()\n",
    "permit_data = pd.DataFrame({'Neighborhood':permit_data.index, 'Permits':permit_data.values})\n",
    "permit_data = permit_data.sort_values(by=['Permits'], ascending=False)\n",
    "permit_data.head(10).plot.barh(x='Neighborhood', legend=False, figsize=(9, 6)).set_xlabel('Permits')"
   ]
  },
  {
   "cell_type": "markdown",
   "metadata": {},
   "source": [
    "### People Per Permit Metric and Population\n",
    "Reads in the population data and merges it with the permit data. Next, calculates the People Per Permit metric by dividing the population by the number of permits for each neighborhood, and displays the neighborhoods with the best People Per Permit metric that have a population over 2000."
   ]
  },
  {
   "cell_type": "code",
   "execution_count": 215,
   "metadata": {},
   "outputs": [
    {
     "data": {
      "text/html": [
       "<div>\n",
       "<style scoped>\n",
       "    .dataframe tbody tr th:only-of-type {\n",
       "        vertical-align: middle;\n",
       "    }\n",
       "\n",
       "    .dataframe tbody tr th {\n",
       "        vertical-align: top;\n",
       "    }\n",
       "\n",
       "    .dataframe thead th {\n",
       "        text-align: right;\n",
       "    }\n",
       "</style>\n",
       "<table border=\"1\" class=\"dataframe\">\n",
       "  <thead>\n",
       "    <tr style=\"text-align: right;\">\n",
       "      <th></th>\n",
       "      <th>Permits</th>\n",
       "      <th>Population</th>\n",
       "      <th>People Per Permit</th>\n",
       "    </tr>\n",
       "    <tr>\n",
       "      <th>Neighborhood</th>\n",
       "      <th></th>\n",
       "      <th></th>\n",
       "      <th></th>\n",
       "    </tr>\n",
       "  </thead>\n",
       "  <tbody>\n",
       "    <tr>\n",
       "      <th>Central Business District</th>\n",
       "      <td>37</td>\n",
       "      <td>4060</td>\n",
       "      <td>109</td>\n",
       "    </tr>\n",
       "    <tr>\n",
       "      <th>Central Northside</th>\n",
       "      <td>20</td>\n",
       "      <td>2892</td>\n",
       "      <td>144</td>\n",
       "    </tr>\n",
       "    <tr>\n",
       "      <th>East Allegheny</th>\n",
       "      <td>10</td>\n",
       "      <td>2095</td>\n",
       "      <td>209</td>\n",
       "    </tr>\n",
       "    <tr>\n",
       "      <th>Upper Lawrenceville</th>\n",
       "      <td>13</td>\n",
       "      <td>2754</td>\n",
       "      <td>211</td>\n",
       "    </tr>\n",
       "    <tr>\n",
       "      <th>Central Lawrenceville</th>\n",
       "      <td>18</td>\n",
       "      <td>4775</td>\n",
       "      <td>265</td>\n",
       "    </tr>\n",
       "    <tr>\n",
       "      <th>Lower Lawrenceville</th>\n",
       "      <td>8</td>\n",
       "      <td>2572</td>\n",
       "      <td>321</td>\n",
       "    </tr>\n",
       "    <tr>\n",
       "      <th>Crawford-Roberts</th>\n",
       "      <td>6</td>\n",
       "      <td>2225</td>\n",
       "      <td>370</td>\n",
       "    </tr>\n",
       "    <tr>\n",
       "      <th>Bloomfield</th>\n",
       "      <td>23</td>\n",
       "      <td>8669</td>\n",
       "      <td>376</td>\n",
       "    </tr>\n",
       "    <tr>\n",
       "      <th>Troy Hill</th>\n",
       "      <td>6</td>\n",
       "      <td>2283</td>\n",
       "      <td>380</td>\n",
       "    </tr>\n",
       "    <tr>\n",
       "      <th>Garfield</th>\n",
       "      <td>10</td>\n",
       "      <td>3966</td>\n",
       "      <td>396</td>\n",
       "    </tr>\n",
       "  </tbody>\n",
       "</table>\n",
       "</div>"
      ],
      "text/plain": [
       "                           Permits  Population  People Per Permit\n",
       "Neighborhood                                                     \n",
       "Central Business District       37        4060                109\n",
       "Central Northside               20        2892                144\n",
       "East Allegheny                  10        2095                209\n",
       "Upper Lawrenceville             13        2754                211\n",
       "Central Lawrenceville           18        4775                265\n",
       "Lower Lawrenceville              8        2572                321\n",
       "Crawford-Roberts                 6        2225                370\n",
       "Bloomfield                      23        8669                376\n",
       "Troy Hill                        6        2283                380\n",
       "Garfield                        10        3966                396"
      ]
     },
     "execution_count": 215,
     "metadata": {},
     "output_type": "execute_result"
    }
   ],
   "source": [
    "combined_permit_data = pd.merge(permit_data, population_data)\n",
    "combined_permit_data.drop(['Id', 'Margin of Error; Total'], inplace=True, axis=1)\n",
    "combined_permit_data.columns.values[2] = 'Population'\n",
    "combined_permit_data['People Per Permit'] = combined_permit_data.apply(lambda x: int(x.Population / x.Permits), axis=1)\n",
    "combined_permit_data = combined_permit_data.set_index('Neighborhood')\n",
    "refined_permit_data = combined_permit_data[combined_permit_data['Population'] > 2000]\n",
    "refined_permit_data.sort_values(by=['People Per Permit'], ascending=True).head(10)"
   ]
  },
  {
   "cell_type": "markdown",
   "metadata": {},
   "source": [
    "Displays the neighborhoods with the worst People Per Permit metric that have a population over 2000."
   ]
  },
  {
   "cell_type": "code",
   "execution_count": 216,
   "metadata": {},
   "outputs": [
    {
     "data": {
      "text/html": [
       "<div>\n",
       "<style scoped>\n",
       "    .dataframe tbody tr th:only-of-type {\n",
       "        vertical-align: middle;\n",
       "    }\n",
       "\n",
       "    .dataframe tbody tr th {\n",
       "        vertical-align: top;\n",
       "    }\n",
       "\n",
       "    .dataframe thead th {\n",
       "        text-align: right;\n",
       "    }\n",
       "</style>\n",
       "<table border=\"1\" class=\"dataframe\">\n",
       "  <thead>\n",
       "    <tr style=\"text-align: right;\">\n",
       "      <th></th>\n",
       "      <th>Permits</th>\n",
       "      <th>Population</th>\n",
       "      <th>People Per Permit</th>\n",
       "    </tr>\n",
       "    <tr>\n",
       "      <th>Neighborhood</th>\n",
       "      <th></th>\n",
       "      <th></th>\n",
       "      <th></th>\n",
       "    </tr>\n",
       "  </thead>\n",
       "  <tbody>\n",
       "    <tr>\n",
       "      <th>Sheraden</th>\n",
       "      <td>1</td>\n",
       "      <td>5684</td>\n",
       "      <td>5684</td>\n",
       "    </tr>\n",
       "    <tr>\n",
       "      <th>Carrick</th>\n",
       "      <td>2</td>\n",
       "      <td>10122</td>\n",
       "      <td>5061</td>\n",
       "    </tr>\n",
       "    <tr>\n",
       "      <th>Overbrook</th>\n",
       "      <td>1</td>\n",
       "      <td>3682</td>\n",
       "      <td>3682</td>\n",
       "    </tr>\n",
       "    <tr>\n",
       "      <th>Brookline</th>\n",
       "      <td>4</td>\n",
       "      <td>13160</td>\n",
       "      <td>3290</td>\n",
       "    </tr>\n",
       "    <tr>\n",
       "      <th>Allentown</th>\n",
       "      <td>1</td>\n",
       "      <td>2558</td>\n",
       "      <td>2558</td>\n",
       "    </tr>\n",
       "    <tr>\n",
       "      <th>Spring Hill-City View</th>\n",
       "      <td>1</td>\n",
       "      <td>2456</td>\n",
       "      <td>2456</td>\n",
       "    </tr>\n",
       "    <tr>\n",
       "      <th>South Side Slopes</th>\n",
       "      <td>2</td>\n",
       "      <td>4583</td>\n",
       "      <td>2291</td>\n",
       "    </tr>\n",
       "    <tr>\n",
       "      <th>Brighton Heights</th>\n",
       "      <td>4</td>\n",
       "      <td>7421</td>\n",
       "      <td>1855</td>\n",
       "    </tr>\n",
       "    <tr>\n",
       "      <th>Lincoln Place</th>\n",
       "      <td>2</td>\n",
       "      <td>3499</td>\n",
       "      <td>1749</td>\n",
       "    </tr>\n",
       "    <tr>\n",
       "      <th>Homewood North</th>\n",
       "      <td>2</td>\n",
       "      <td>3371</td>\n",
       "      <td>1685</td>\n",
       "    </tr>\n",
       "  </tbody>\n",
       "</table>\n",
       "</div>"
      ],
      "text/plain": [
       "                       Permits  Population  People Per Permit\n",
       "Neighborhood                                                 \n",
       "Sheraden                     1        5684               5684\n",
       "Carrick                      2       10122               5061\n",
       "Overbrook                    1        3682               3682\n",
       "Brookline                    4       13160               3290\n",
       "Allentown                    1        2558               2558\n",
       "Spring Hill-City View        1        2456               2456\n",
       "South Side Slopes            2        4583               2291\n",
       "Brighton Heights             4        7421               1855\n",
       "Lincoln Place                2        3499               1749\n",
       "Homewood North               2        3371               1685"
      ]
     },
     "execution_count": 216,
     "metadata": {},
     "output_type": "execute_result"
    }
   ],
   "source": [
    "refined_permit_data.sort_values(by=['People Per Permit'], ascending=False).head(10)"
   ]
  },
  {
   "cell_type": "markdown",
   "metadata": {},
   "source": [
    "### Choropleth Map\n",
    "Graphically displays the neighborhoods' People Per Permit metric using a choropleth map."
   ]
  },
  {
   "cell_type": "code",
   "execution_count": 217,
   "metadata": {},
   "outputs": [
    {
     "data": {
      "text/plain": [
       "<matplotlib.axes._subplots.AxesSubplot at 0x7fd3c5def7f0>"
      ]
     },
     "execution_count": 217,
     "metadata": {},
     "output_type": "execute_result"
    },
    {
     "data": {
      "image/png": "[encoded data removed]",
      "text/plain": [
       "<Figure size 864x576 with 2 Axes>"
      ]
     },
     "metadata": {
      "needs_background": "light"
     },
     "output_type": "display_data"
    }
   ],
   "source": [
    "neighborhoods = neighborhoods.merge(combined_permit_data, how='left', left_on='hood', right_on='Neighborhood')\n",
    "neighborhoods.plot(column='People Per Permit', cmap='YlOrRd', edgecolor='black', legend=True,\n",
    "                 legend_kwds={'label':'People Per Permit', 'orientation':'horizontal'},\n",
    "                 figsize=(12, 8), missing_kwds={'color':'lightgray'})"
   ]
  },
  {
   "cell_type": "markdown",
   "metadata": {},
   "source": [
    "## Individuals In Poverty\n",
    "### Importing Data"
   ]
  },
  {
   "cell_type": "code",
   "execution_count": 218,
   "metadata": {},
   "outputs": [
    {
     "data": {
      "text/html": [
       "<div>\n",
       "<style scoped>\n",
       "    .dataframe tbody tr th:only-of-type {\n",
       "        vertical-align: middle;\n",
       "    }\n",
       "\n",
       "    .dataframe tbody tr th {\n",
       "        vertical-align: top;\n",
       "    }\n",
       "\n",
       "    .dataframe thead th {\n",
       "        text-align: right;\n",
       "    }\n",
       "</style>\n",
       "<table border=\"1\" class=\"dataframe\">\n",
       "  <thead>\n",
       "    <tr style=\"text-align: right;\">\n",
       "      <th></th>\n",
       "      <th>Sector #</th>\n",
       "      <th>Population (2010)</th>\n",
       "      <th>Total Pop, 25 and older (2010)</th>\n",
       "      <th>Edu. Attainment: Less than High School (2010)</th>\n",
       "      <th>Edu. Attainment: High School Graduate (2010)</th>\n",
       "      <th>Edu. Attainment: Assoc./Prof. Degree (2010)</th>\n",
       "      <th>Edu. Attainment: Bachelor's Degree (2010)</th>\n",
       "      <th>Edu. Attainment: Postgraduate Degree (2010)</th>\n",
       "      <th>1999 Median Income ('99 Dollars)</th>\n",
       "      <th>2009 Median Income ('09 Dollars)</th>\n",
       "      <th>1999 Median Income ('11 Dollars)</th>\n",
       "      <th>2009 Med. Income ('13 Dollars)</th>\n",
       "      <th>Est. Pop. for which Poverty Calc. (2010)</th>\n",
       "      <th>Est. Pop. Under Poverty (2010)</th>\n",
       "      <th>Est. Percent Under Poverty (2010)</th>\n",
       "    </tr>\n",
       "    <tr>\n",
       "      <th>Neighborhood</th>\n",
       "      <th></th>\n",
       "      <th></th>\n",
       "      <th></th>\n",
       "      <th></th>\n",
       "      <th></th>\n",
       "      <th></th>\n",
       "      <th></th>\n",
       "      <th></th>\n",
       "      <th></th>\n",
       "      <th></th>\n",
       "      <th></th>\n",
       "      <th></th>\n",
       "      <th></th>\n",
       "      <th></th>\n",
       "      <th></th>\n",
       "    </tr>\n",
       "  </thead>\n",
       "  <tbody>\n",
       "    <tr>\n",
       "      <th>Allegheny Center</th>\n",
       "      <td>3</td>\n",
       "      <td>933</td>\n",
       "      <td>609</td>\n",
       "      <td>18.7%</td>\n",
       "      <td>44.5%</td>\n",
       "      <td>17.2%</td>\n",
       "      <td>15.8%</td>\n",
       "      <td>3.8%</td>\n",
       "      <td>$16,964</td>\n",
       "      <td>$20,911</td>\n",
       "      <td>$22,535</td>\n",
       "      <td>$22,793</td>\n",
       "      <td>954</td>\n",
       "      <td>324</td>\n",
       "      <td>34.0%</td>\n",
       "    </tr>\n",
       "    <tr>\n",
       "      <th>Allegheny West</th>\n",
       "      <td>3</td>\n",
       "      <td>462</td>\n",
       "      <td>239</td>\n",
       "      <td>9.2%</td>\n",
       "      <td>28.9%</td>\n",
       "      <td>6.7%</td>\n",
       "      <td>44.8%</td>\n",
       "      <td>10.5%</td>\n",
       "      <td>$26,638</td>\n",
       "      <td>$41,761</td>\n",
       "      <td>$35,386</td>\n",
       "      <td>$45,519</td>\n",
       "      <td>239</td>\n",
       "      <td>12</td>\n",
       "      <td>5.0%</td>\n",
       "    </tr>\n",
       "    <tr>\n",
       "      <th>Allentown</th>\n",
       "      <td>6</td>\n",
       "      <td>2,500</td>\n",
       "      <td>1,729</td>\n",
       "      <td>23.0%</td>\n",
       "      <td>63.3%</td>\n",
       "      <td>6.6%</td>\n",
       "      <td>5.6%</td>\n",
       "      <td>1.5%</td>\n",
       "      <td>$22,539</td>\n",
       "      <td>$29,274</td>\n",
       "      <td>$29,941</td>\n",
       "      <td>$31,909</td>\n",
       "      <td>2,212</td>\n",
       "      <td>630</td>\n",
       "      <td>28.5%</td>\n",
       "    </tr>\n",
       "    <tr>\n",
       "      <th>Arlington</th>\n",
       "      <td>7</td>\n",
       "      <td>1,869</td>\n",
       "      <td>1,232</td>\n",
       "      <td>14.9%</td>\n",
       "      <td>65.3%</td>\n",
       "      <td>10.1%</td>\n",
       "      <td>7.1%</td>\n",
       "      <td>2.5%</td>\n",
       "      <td>$27,167</td>\n",
       "      <td>$25,119</td>\n",
       "      <td>$36,089</td>\n",
       "      <td>$27,380</td>\n",
       "      <td>1,779</td>\n",
       "      <td>361</td>\n",
       "      <td>20.3%</td>\n",
       "    </tr>\n",
       "    <tr>\n",
       "      <th>Arlington Heights</th>\n",
       "      <td>7</td>\n",
       "      <td>244</td>\n",
       "      <td>166</td>\n",
       "      <td>18.1%</td>\n",
       "      <td>74.1%</td>\n",
       "      <td>0.0%</td>\n",
       "      <td>7.8%</td>\n",
       "      <td>0.0%</td>\n",
       "      <td>$18,646</td>\n",
       "      <td>$9,417</td>\n",
       "      <td>$24,769</td>\n",
       "      <td>$10,265</td>\n",
       "      <td>293</td>\n",
       "      <td>169</td>\n",
       "      <td>57.7%</td>\n",
       "    </tr>\n",
       "  </tbody>\n",
       "</table>\n",
       "</div>"
      ],
      "text/plain": [
       "                   Sector # Population (2010) Total Pop, 25 and older (2010)  \\\n",
       "Neighborhood                                                                   \n",
       "Allegheny Center          3               933                            609   \n",
       "Allegheny West            3               462                            239   \n",
       "Allentown                 6             2,500                          1,729   \n",
       "Arlington                 7             1,869                          1,232   \n",
       "Arlington Heights         7               244                            166   \n",
       "\n",
       "                  Edu. Attainment: Less than High School (2010)  \\\n",
       "Neighborhood                                                      \n",
       "Allegheny Center                                          18.7%   \n",
       "Allegheny West                                             9.2%   \n",
       "Allentown                                                 23.0%   \n",
       "Arlington                                                 14.9%   \n",
       "Arlington Heights                                         18.1%   \n",
       "\n",
       "                  Edu. Attainment: High School Graduate (2010)  \\\n",
       "Neighborhood                                                     \n",
       "Allegheny Center                                         44.5%   \n",
       "Allegheny West                                           28.9%   \n",
       "Allentown                                                63.3%   \n",
       "Arlington                                                65.3%   \n",
       "Arlington Heights                                        74.1%   \n",
       "\n",
       "                  Edu. Attainment: Assoc./Prof. Degree (2010)  \\\n",
       "Neighborhood                                                    \n",
       "Allegheny Center                                        17.2%   \n",
       "Allegheny West                                           6.7%   \n",
       "Allentown                                                6.6%   \n",
       "Arlington                                               10.1%   \n",
       "Arlington Heights                                        0.0%   \n",
       "\n",
       "                  Edu. Attainment: Bachelor's Degree (2010)  \\\n",
       "Neighborhood                                                  \n",
       "Allegheny Center                                      15.8%   \n",
       "Allegheny West                                        44.8%   \n",
       "Allentown                                              5.6%   \n",
       "Arlington                                              7.1%   \n",
       "Arlington Heights                                      7.8%   \n",
       "\n",
       "                  Edu. Attainment: Postgraduate Degree (2010)  \\\n",
       "Neighborhood                                                    \n",
       "Allegheny Center                                         3.8%   \n",
       "Allegheny West                                          10.5%   \n",
       "Allentown                                                1.5%   \n",
       "Arlington                                                2.5%   \n",
       "Arlington Heights                                        0.0%   \n",
       "\n",
       "                  1999 Median Income ('99 Dollars)  \\\n",
       "Neighborhood                                         \n",
       "Allegheny Center                          $16,964    \n",
       "Allegheny West                            $26,638    \n",
       "Allentown                                 $22,539    \n",
       "Arlington                                 $27,167    \n",
       "Arlington Heights                         $18,646    \n",
       "\n",
       "                  2009 Median Income ('09 Dollars)  \\\n",
       "Neighborhood                                         \n",
       "Allegheny Center                          $20,911    \n",
       "Allegheny West                            $41,761    \n",
       "Allentown                                 $29,274    \n",
       "Arlington                                 $25,119    \n",
       "Arlington Heights                          $9,417    \n",
       "\n",
       "                  1999 Median Income ('11 Dollars)  \\\n",
       "Neighborhood                                         \n",
       "Allegheny Center                          $22,535    \n",
       "Allegheny West                            $35,386    \n",
       "Allentown                                 $29,941    \n",
       "Arlington                                 $36,089    \n",
       "Arlington Heights                         $24,769    \n",
       "\n",
       "                  2009 Med. Income ('13 Dollars)  \\\n",
       "Neighborhood                                       \n",
       "Allegheny Center                        $22,793    \n",
       "Allegheny West                          $45,519    \n",
       "Allentown                               $31,909    \n",
       "Arlington                               $27,380    \n",
       "Arlington Heights                       $10,265    \n",
       "\n",
       "                  Est. Pop. for which Poverty Calc. (2010)  \\\n",
       "Neighborhood                                                 \n",
       "Allegheny Center                                       954   \n",
       "Allegheny West                                         239   \n",
       "Allentown                                            2,212   \n",
       "Arlington                                            1,779   \n",
       "Arlington Heights                                      293   \n",
       "\n",
       "                  Est. Pop. Under Poverty (2010)  \\\n",
       "Neighborhood                                       \n",
       "Allegheny Center                             324   \n",
       "Allegheny West                                12   \n",
       "Allentown                                    630   \n",
       "Arlington                                    361   \n",
       "Arlington Heights                            169   \n",
       "\n",
       "                  Est. Percent Under Poverty (2010)  \n",
       "Neighborhood                                         \n",
       "Allegheny Center                              34.0%  \n",
       "Allegheny West                                 5.0%  \n",
       "Allentown                                     28.5%  \n",
       "Arlington                                     20.3%  \n",
       "Arlington Heights                             57.7%  "
      ]
     },
     "execution_count": 218,
     "metadata": {},
     "output_type": "execute_result"
    }
   ],
   "source": [
    "education = pd.read_csv('education-income.csv',\n",
    "                           index_col=\"Neighborhood\",\n",
    "                           parse_dates=True)\n",
    "s = pd.DataFrame(education)\n",
    "\n",
    "s.head()"
   ]
  },
  {
   "cell_type": "markdown",
   "metadata": {},
   "source": [
    "We'll drop out the other columns other than the one that counts up our individuals in poverty."
   ]
  },
  {
   "cell_type": "code",
   "execution_count": 219,
   "metadata": {},
   "outputs": [],
   "source": [
    "del s['Sector #']\n",
    "del s['Population (2010)']\n",
    "del s['Total Pop, 25 and older (2010)']\n",
    "del s['Edu. Attainment: Less than High School (2010)']\n",
    "del s['Edu. Attainment: Assoc./Prof. Degree (2010)']\n",
    "del s['Edu. Attainment: Bachelor\\'s Degree (2010)']\n",
    "del s['Edu. Attainment: Postgraduate Degree (2010)']\n",
    "del s['1999 Median Income (\\'99 Dollars)']\n",
    "del s['2009 Median Income (\\'09 Dollars)']\n",
    "del s['1999 Median Income (\\'11 Dollars)']\n",
    "del s['2009 Med. Income (\\'13 Dollars)']\n",
    "del s['Est. Pop. for which Poverty Calc. (2010)']\n",
    "del s['Est. Percent Under Poverty (2010)']\n",
    "del s['Edu. Attainment: High School Graduate (2010)']"
   ]
  },
  {
   "cell_type": "markdown",
   "metadata": {},
   "source": [
    "Next, we'll rename the column to something a little more consice and readable, and then we'll reprint the data with only that one column to simplify it a bit."
   ]
  },
  {
   "cell_type": "code",
   "execution_count": 220,
   "metadata": {},
   "outputs": [
    {
     "data": {
      "text/html": [
       "<div>\n",
       "<style scoped>\n",
       "    .dataframe tbody tr th:only-of-type {\n",
       "        vertical-align: middle;\n",
       "    }\n",
       "\n",
       "    .dataframe tbody tr th {\n",
       "        vertical-align: top;\n",
       "    }\n",
       "\n",
       "    .dataframe thead th {\n",
       "        text-align: right;\n",
       "    }\n",
       "</style>\n",
       "<table border=\"1\" class=\"dataframe\">\n",
       "  <thead>\n",
       "    <tr style=\"text-align: right;\">\n",
       "      <th></th>\n",
       "      <th>People Under Poverty Line</th>\n",
       "    </tr>\n",
       "    <tr>\n",
       "      <th>Neighborhood</th>\n",
       "      <th></th>\n",
       "    </tr>\n",
       "  </thead>\n",
       "  <tbody>\n",
       "    <tr>\n",
       "      <th>Allegheny Center</th>\n",
       "      <td>324</td>\n",
       "    </tr>\n",
       "    <tr>\n",
       "      <th>Allegheny West</th>\n",
       "      <td>12</td>\n",
       "    </tr>\n",
       "    <tr>\n",
       "      <th>Allentown</th>\n",
       "      <td>630</td>\n",
       "    </tr>\n",
       "    <tr>\n",
       "      <th>Arlington</th>\n",
       "      <td>361</td>\n",
       "    </tr>\n",
       "    <tr>\n",
       "      <th>Arlington Heights</th>\n",
       "      <td>169</td>\n",
       "    </tr>\n",
       "  </tbody>\n",
       "</table>\n",
       "</div>"
      ],
      "text/plain": [
       "                  People Under Poverty Line\n",
       "Neighborhood                               \n",
       "Allegheny Center                        324\n",
       "Allegheny West                           12\n",
       "Allentown                               630\n",
       "Arlington                               361\n",
       "Arlington Heights                       169"
      ]
     },
     "execution_count": 220,
     "metadata": {},
     "output_type": "execute_result"
    }
   ],
   "source": [
    "# renaming column to make it prettier\n",
    "s = s.rename(columns={'Est. Pop. Under Poverty (2010)':'People Under Poverty Line'})\n",
    "\n",
    "# reprinting with only our most recent column still in the dataframe\n",
    "s.head()"
   ]
  },
  {
   "cell_type": "markdown",
   "metadata": {},
   "source": [
    "## Sorting Data\n",
    "\n",
    "The focus of the project is to measure neighborhood 'bestness', so what I'm doing here is sorting the data by who has the **least** number of people in their neighborhood under the poverty line. We're also going to filter out results higher than 100 so that the neighborhoods play nicely with the bar graph."
   ]
  },
  {
   "cell_type": "code",
   "execution_count": 221,
   "metadata": {},
   "outputs": [],
   "source": [
    "# sorting the data in ascending order to show the highest levels of blood lead\n",
    "\n",
    "# removing the commas from the column and parsing the va\n",
    "s['People Under Poverty Line'] = s['People Under Poverty Line'].replace({',':''}, regex=True)\n",
    "s[[\"People Under Poverty Line\"]] = s[[\"People Under Poverty Line\"]].apply(pd.to_numeric)"
   ]
  },
  {
   "cell_type": "code",
   "execution_count": 222,
   "metadata": {},
   "outputs": [
    {
     "data": {
      "text/html": [
       "<div>\n",
       "<style scoped>\n",
       "    .dataframe tbody tr th:only-of-type {\n",
       "        vertical-align: middle;\n",
       "    }\n",
       "\n",
       "    .dataframe tbody tr th {\n",
       "        vertical-align: top;\n",
       "    }\n",
       "\n",
       "    .dataframe thead th {\n",
       "        text-align: right;\n",
       "    }\n",
       "</style>\n",
       "<table border=\"1\" class=\"dataframe\">\n",
       "  <thead>\n",
       "    <tr style=\"text-align: right;\">\n",
       "      <th></th>\n",
       "      <th>People Under Poverty Line</th>\n",
       "    </tr>\n",
       "    <tr>\n",
       "      <th>Neighborhood</th>\n",
       "      <th></th>\n",
       "    </tr>\n",
       "  </thead>\n",
       "  <tbody>\n",
       "    <tr>\n",
       "      <th>North Shore</th>\n",
       "      <td>0</td>\n",
       "    </tr>\n",
       "    <tr>\n",
       "      <th>South Shore</th>\n",
       "      <td>0</td>\n",
       "    </tr>\n",
       "    <tr>\n",
       "      <th>West End</th>\n",
       "      <td>0</td>\n",
       "    </tr>\n",
       "    <tr>\n",
       "      <th>Strip District</th>\n",
       "      <td>10</td>\n",
       "    </tr>\n",
       "    <tr>\n",
       "      <th>Allegheny West</th>\n",
       "      <td>12</td>\n",
       "    </tr>\n",
       "    <tr>\n",
       "      <th>Regent Square</th>\n",
       "      <td>12</td>\n",
       "    </tr>\n",
       "    <tr>\n",
       "      <th>Chartiers City</th>\n",
       "      <td>22</td>\n",
       "    </tr>\n",
       "    <tr>\n",
       "      <th>Swisshelm Park</th>\n",
       "      <td>30</td>\n",
       "    </tr>\n",
       "    <tr>\n",
       "      <th>East Carnegie</th>\n",
       "      <td>32</td>\n",
       "    </tr>\n",
       "    <tr>\n",
       "      <th>Ridgemont</th>\n",
       "      <td>39</td>\n",
       "    </tr>\n",
       "    <tr>\n",
       "      <th>Windgap</th>\n",
       "      <td>72</td>\n",
       "    </tr>\n",
       "    <tr>\n",
       "      <th>Chateau</th>\n",
       "      <td>92</td>\n",
       "    </tr>\n",
       "    <tr>\n",
       "      <th>Summer Hill</th>\n",
       "      <td>96</td>\n",
       "    </tr>\n",
       "  </tbody>\n",
       "</table>\n",
       "</div>"
      ],
      "text/plain": [
       "                People Under Poverty Line\n",
       "Neighborhood                             \n",
       "North Shore                             0\n",
       "South Shore                             0\n",
       "West End                                0\n",
       "Strip District                         10\n",
       "Allegheny West                         12\n",
       "Regent Square                          12\n",
       "Chartiers City                         22\n",
       "Swisshelm Park                         30\n",
       "East Carnegie                          32\n",
       "Ridgemont                              39\n",
       "Windgap                                72\n",
       "Chateau                                92\n",
       "Summer Hill                            96"
      ]
     },
     "execution_count": 222,
     "metadata": {},
     "output_type": "execute_result"
    }
   ],
   "source": [
    "poverty_levels = s[s['People Under Poverty Line']<100].sort_values('People Under Poverty Line',ascending=True)\n",
    "poverty_levels_table = s.sort_values('People Under Poverty Line',ascending=True)\n",
    "\n",
    "poverty_levels.head(30)"
   ]
  },
  {
   "cell_type": "markdown",
   "metadata": {},
   "source": [
    "## Representation\n",
    "\n",
    "We're going to set up the previously mentioned bar graph and display our data, which will show the neighborhoods with the best results (remember, lower is better)."
   ]
  },
  {
   "cell_type": "code",
   "execution_count": 223,
   "metadata": {},
   "outputs": [
    {
     "data": {
      "text/plain": [
       "<matplotlib.axes._subplots.AxesSubplot at 0x7fd3c602e908>"
      ]
     },
     "execution_count": 223,
     "metadata": {},
     "output_type": "execute_result"
    },
    {
     "data": {
      "image/png": "[encoded data removed]",
      "text/plain": [
       "<Figure size 432x288 with 1 Axes>"
      ]
     },
     "metadata": {
      "needs_background": "light"
     },
     "output_type": "display_data"
    }
   ],
   "source": [
    "# setting up bar graph\n",
    "poverty_levels.loc[:,'People Under Poverty Line'].plot(kind=\"bar\", title = \"Individuals in Poverty\", rot=70)"
   ]
  },
  {
   "cell_type": "markdown",
   "metadata": {},
   "source": [
    "## The Best Neighborhood\n",
    "\n",
    "Assigns a rank value to each neighborhood in each dataframe then adds them all up to determine which neighborhood is the best. A lower rank indicates a better neighborhood."
   ]
  },
  {
   "cell_type": "code",
   "execution_count": 230,
   "metadata": {},
   "outputs": [],
   "source": [
    "arrest_data = arrest_data.sort_values(by=['Offenses per Capita'], ascending=True)\n",
    "refined_permit_data = refined_permit_data.sort_values(by=['People Per Permit'], ascending=True)\n",
    "arrest_data['Rank1'] = np.arange(len(arrest_data))\n",
    "refined_permit_data['Rank2'] = np.arange(len(refined_permit_data))\n",
    "poverty_levels_table['Rank3'] = np.arange(len(poverty_levels_table))\n",
    "final_data = pd.merge(left=arrest_data, right=refined_permit_data, left_on='Neighborhood', right_on='Neighborhood')\n",
    "final_data = pd.merge(left=final_data, right=poverty_levels_table, left_on='Neighborhood', right_on='Neighborhood')\n",
    "final_data['Rank'] = final_data.apply(lambda x: int(x.Rank1 + x.Rank2 + x.Rank3 + 3), axis=1)\n",
    "final_data = final_data.sort_values(by='Rank', ascending=False)"
   ]
  },
  {
   "cell_type": "code",
   "execution_count": 231,
   "metadata": {},
   "outputs": [
    {
     "data": {
      "text/plain": [
       "Text(0.5, 0, 'Rank')"
      ]
     },
     "execution_count": 231,
     "metadata": {},
     "output_type": "execute_result"
    },
    {
     "data": {
      "image/png": "[encoded data removed]",
      "text/plain": [
       "<Figure size 864x576 with 1 Axes>"
      ]
     },
     "metadata": {
      "needs_background": "light"
     },
     "output_type": "display_data"
    }
   ],
   "source": [
    "final_data.tail(10).plot.barh(y='Rank', legend=False, figsize=(12, 8)).set_xlabel('Rank')"
   ]
  },
  {
   "cell_type": "markdown",
   "metadata": {},
   "source": [
    "## Conclusion\n",
    "### Erik\n",
    "* I hadn't heard of Point Breeze before we combined our data and determined the best neighborhood. After looking it up, I'm not surprised given its close proximity to other very desirable neighborhoods. Squirrel Hill is my favorite neighborhood, and I honestly expected it to be higher up on the list; rank 7 is not too bad though.\n",
    "\n",
    "### Albert\n",
    "* I haven't seen many neighborhoods around Pittsburgh but based on what I have seen the conclusion that we came to seems to be correct.\n",
    "\n",
    "### Brendan\n",
    "* I’ve lived in Pittsburgh my entire life, and the results from my metric did little to change my mind about where I’d be interested in living or spending my time, but each of these results demonstrates something about these neighborhoods that is the “best” for entirely different reasons, and I think that’s worth exploring."
   ]
  }
 ],
 "metadata": {
  "kernelspec": {
   "display_name": "Python 3",
   "language": "python",
   "name": "python3"
  },
  "language_info": {
   "codemirror_mode": {
    "name": "ipython",
    "version": 3
   },
   "file_extension": ".py",
   "mimetype": "text/x-python",
   "name": "python",
   "nbconvert_exporter": "python",
   "pygments_lexer": "ipython3",
   "version": "3.6.7"
  }
 },
 "nbformat": 4,
 "nbformat_minor": 4
}
